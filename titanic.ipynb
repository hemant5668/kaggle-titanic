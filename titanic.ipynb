{
  "nbformat": 4,
  "nbformat_minor": 0,
  "metadata": {
    "colab": {
      "name": "titanic ",
      "provenance": [],
      "collapsed_sections": [],
      "include_colab_link": true
    },
    "kernelspec": {
      "name": "python3",
      "display_name": "Python 3"
    }
  },
  "cells": [
    {
      "cell_type": "markdown",
      "metadata": {
        "id": "view-in-github",
        "colab_type": "text"
      },
      "source": [
        "<a href=\"https://colab.research.google.com/github/hemant5668/kaggle-titanic/blob/master/titanic.ipynb\" target=\"_parent\"><img src=\"https://colab.research.google.com/assets/colab-badge.svg\" alt=\"Open In Colab\"/></a>"
      ]
    },
    {
      "cell_type": "code",
      "metadata": {
        "id": "Xnx8-bxa6iFo",
        "colab_type": "code",
        "colab": {}
      },
      "source": [
        "import pandas as pd\n",
        "import numpy as np\n",
        "import matplotlib.pyplot as plt"
      ],
      "execution_count": 0,
      "outputs": []
    },
    {
      "cell_type": "code",
      "metadata": {
        "id": "iv-g26o36zTi",
        "colab_type": "code",
        "colab": {}
      },
      "source": [
        "#import data \n",
        "train_data=pd.read_csv('/content/train.csv')\n",
        "test_data=pd.read_csv('/content/test.csv')"
      ],
      "execution_count": 0,
      "outputs": []
    },
    {
      "cell_type": "code",
      "metadata": {
        "id": "xS2KlLbX7PEx",
        "colab_type": "code",
        "outputId": "b94d8524-07e7-4f64-d427-d100c779da8b",
        "colab": {
          "base_uri": "https://localhost:8080/",
          "height": 359
        }
      },
      "source": [
        "train_data.head(10)"
      ],
      "execution_count": 0,
      "outputs": [
        {
          "output_type": "execute_result",
          "data": {
            "text/html": [
              "<div>\n",
              "<style scoped>\n",
              "    .dataframe tbody tr th:only-of-type {\n",
              "        vertical-align: middle;\n",
              "    }\n",
              "\n",
              "    .dataframe tbody tr th {\n",
              "        vertical-align: top;\n",
              "    }\n",
              "\n",
              "    .dataframe thead th {\n",
              "        text-align: right;\n",
              "    }\n",
              "</style>\n",
              "<table border=\"1\" class=\"dataframe\">\n",
              "  <thead>\n",
              "    <tr style=\"text-align: right;\">\n",
              "      <th></th>\n",
              "      <th>PassengerId</th>\n",
              "      <th>Survived</th>\n",
              "      <th>Pclass</th>\n",
              "      <th>Name</th>\n",
              "      <th>Sex</th>\n",
              "      <th>Age</th>\n",
              "      <th>SibSp</th>\n",
              "      <th>Parch</th>\n",
              "      <th>Ticket</th>\n",
              "      <th>Fare</th>\n",
              "      <th>Cabin</th>\n",
              "      <th>Embarked</th>\n",
              "    </tr>\n",
              "  </thead>\n",
              "  <tbody>\n",
              "    <tr>\n",
              "      <th>0</th>\n",
              "      <td>1</td>\n",
              "      <td>0</td>\n",
              "      <td>3</td>\n",
              "      <td>Braund, Mr. Owen Harris</td>\n",
              "      <td>male</td>\n",
              "      <td>22.0</td>\n",
              "      <td>1</td>\n",
              "      <td>0</td>\n",
              "      <td>A/5 21171</td>\n",
              "      <td>7.2500</td>\n",
              "      <td>NaN</td>\n",
              "      <td>S</td>\n",
              "    </tr>\n",
              "    <tr>\n",
              "      <th>1</th>\n",
              "      <td>2</td>\n",
              "      <td>1</td>\n",
              "      <td>1</td>\n",
              "      <td>Cumings, Mrs. John Bradley (Florence Briggs Th...</td>\n",
              "      <td>female</td>\n",
              "      <td>38.0</td>\n",
              "      <td>1</td>\n",
              "      <td>0</td>\n",
              "      <td>PC 17599</td>\n",
              "      <td>71.2833</td>\n",
              "      <td>C85</td>\n",
              "      <td>C</td>\n",
              "    </tr>\n",
              "    <tr>\n",
              "      <th>2</th>\n",
              "      <td>3</td>\n",
              "      <td>1</td>\n",
              "      <td>3</td>\n",
              "      <td>Heikkinen, Miss. Laina</td>\n",
              "      <td>female</td>\n",
              "      <td>26.0</td>\n",
              "      <td>0</td>\n",
              "      <td>0</td>\n",
              "      <td>STON/O2. 3101282</td>\n",
              "      <td>7.9250</td>\n",
              "      <td>NaN</td>\n",
              "      <td>S</td>\n",
              "    </tr>\n",
              "    <tr>\n",
              "      <th>3</th>\n",
              "      <td>4</td>\n",
              "      <td>1</td>\n",
              "      <td>1</td>\n",
              "      <td>Futrelle, Mrs. Jacques Heath (Lily May Peel)</td>\n",
              "      <td>female</td>\n",
              "      <td>35.0</td>\n",
              "      <td>1</td>\n",
              "      <td>0</td>\n",
              "      <td>113803</td>\n",
              "      <td>53.1000</td>\n",
              "      <td>C123</td>\n",
              "      <td>S</td>\n",
              "    </tr>\n",
              "    <tr>\n",
              "      <th>4</th>\n",
              "      <td>5</td>\n",
              "      <td>0</td>\n",
              "      <td>3</td>\n",
              "      <td>Allen, Mr. William Henry</td>\n",
              "      <td>male</td>\n",
              "      <td>35.0</td>\n",
              "      <td>0</td>\n",
              "      <td>0</td>\n",
              "      <td>373450</td>\n",
              "      <td>8.0500</td>\n",
              "      <td>NaN</td>\n",
              "      <td>S</td>\n",
              "    </tr>\n",
              "    <tr>\n",
              "      <th>5</th>\n",
              "      <td>6</td>\n",
              "      <td>0</td>\n",
              "      <td>3</td>\n",
              "      <td>Moran, Mr. James</td>\n",
              "      <td>male</td>\n",
              "      <td>NaN</td>\n",
              "      <td>0</td>\n",
              "      <td>0</td>\n",
              "      <td>330877</td>\n",
              "      <td>8.4583</td>\n",
              "      <td>NaN</td>\n",
              "      <td>Q</td>\n",
              "    </tr>\n",
              "    <tr>\n",
              "      <th>6</th>\n",
              "      <td>7</td>\n",
              "      <td>0</td>\n",
              "      <td>1</td>\n",
              "      <td>McCarthy, Mr. Timothy J</td>\n",
              "      <td>male</td>\n",
              "      <td>54.0</td>\n",
              "      <td>0</td>\n",
              "      <td>0</td>\n",
              "      <td>17463</td>\n",
              "      <td>51.8625</td>\n",
              "      <td>E46</td>\n",
              "      <td>S</td>\n",
              "    </tr>\n",
              "    <tr>\n",
              "      <th>7</th>\n",
              "      <td>8</td>\n",
              "      <td>0</td>\n",
              "      <td>3</td>\n",
              "      <td>Palsson, Master. Gosta Leonard</td>\n",
              "      <td>male</td>\n",
              "      <td>2.0</td>\n",
              "      <td>3</td>\n",
              "      <td>1</td>\n",
              "      <td>349909</td>\n",
              "      <td>21.0750</td>\n",
              "      <td>NaN</td>\n",
              "      <td>S</td>\n",
              "    </tr>\n",
              "    <tr>\n",
              "      <th>8</th>\n",
              "      <td>9</td>\n",
              "      <td>1</td>\n",
              "      <td>3</td>\n",
              "      <td>Johnson, Mrs. Oscar W (Elisabeth Vilhelmina Berg)</td>\n",
              "      <td>female</td>\n",
              "      <td>27.0</td>\n",
              "      <td>0</td>\n",
              "      <td>2</td>\n",
              "      <td>347742</td>\n",
              "      <td>11.1333</td>\n",
              "      <td>NaN</td>\n",
              "      <td>S</td>\n",
              "    </tr>\n",
              "    <tr>\n",
              "      <th>9</th>\n",
              "      <td>10</td>\n",
              "      <td>1</td>\n",
              "      <td>2</td>\n",
              "      <td>Nasser, Mrs. Nicholas (Adele Achem)</td>\n",
              "      <td>female</td>\n",
              "      <td>14.0</td>\n",
              "      <td>1</td>\n",
              "      <td>0</td>\n",
              "      <td>237736</td>\n",
              "      <td>30.0708</td>\n",
              "      <td>NaN</td>\n",
              "      <td>C</td>\n",
              "    </tr>\n",
              "  </tbody>\n",
              "</table>\n",
              "</div>"
            ],
            "text/plain": [
              "   PassengerId  Survived  Pclass  ...     Fare Cabin  Embarked\n",
              "0            1         0       3  ...   7.2500   NaN         S\n",
              "1            2         1       1  ...  71.2833   C85         C\n",
              "2            3         1       3  ...   7.9250   NaN         S\n",
              "3            4         1       1  ...  53.1000  C123         S\n",
              "4            5         0       3  ...   8.0500   NaN         S\n",
              "5            6         0       3  ...   8.4583   NaN         Q\n",
              "6            7         0       1  ...  51.8625   E46         S\n",
              "7            8         0       3  ...  21.0750   NaN         S\n",
              "8            9         1       3  ...  11.1333   NaN         S\n",
              "9           10         1       2  ...  30.0708   NaN         C\n",
              "\n",
              "[10 rows x 12 columns]"
            ]
          },
          "metadata": {
            "tags": []
          },
          "execution_count": 3
        }
      ]
    },
    {
      "cell_type": "code",
      "metadata": {
        "id": "S3EezHVd7SL9",
        "colab_type": "code",
        "outputId": "b0e95d5b-6dc6-4fa0-f96e-d26c532b981a",
        "colab": {
          "base_uri": "https://localhost:8080/",
          "height": 34
        }
      },
      "source": [
        "train_data.shape"
      ],
      "execution_count": 0,
      "outputs": [
        {
          "output_type": "execute_result",
          "data": {
            "text/plain": [
              "(891, 12)"
            ]
          },
          "metadata": {
            "tags": []
          },
          "execution_count": 4
        }
      ]
    },
    {
      "cell_type": "code",
      "metadata": {
        "id": "uYIels517jWG",
        "colab_type": "code",
        "colab": {}
      },
      "source": [
        "import seaborn as sns\n"
      ],
      "execution_count": 0,
      "outputs": []
    },
    {
      "cell_type": "code",
      "metadata": {
        "id": "jfoajQqY8_XR",
        "colab_type": "code",
        "outputId": "cd23d9b5-4bf3-461c-902a-6dcdd81fa3ae",
        "colab": {
          "base_uri": "https://localhost:8080/",
          "height": 238
        }
      },
      "source": [
        "train_data.isnull().sum()"
      ],
      "execution_count": 0,
      "outputs": [
        {
          "output_type": "execute_result",
          "data": {
            "text/plain": [
              "PassengerId      0\n",
              "Survived         0\n",
              "Pclass           0\n",
              "Name             0\n",
              "Sex              0\n",
              "Age            177\n",
              "SibSp            0\n",
              "Parch            0\n",
              "Ticket           0\n",
              "Fare             0\n",
              "Cabin          687\n",
              "Embarked         2\n",
              "dtype: int64"
            ]
          },
          "metadata": {
            "tags": []
          },
          "execution_count": 6
        }
      ]
    },
    {
      "cell_type": "code",
      "metadata": {
        "id": "f3TSt9qH9gBE",
        "colab_type": "code",
        "outputId": "b981285f-5612-48ed-f339-0ec33622ce9d",
        "colab": {
          "base_uri": "https://localhost:8080/",
          "height": 503
        }
      },
      "source": [
        "plt.figure(figsize=(12,8))\n",
        "sns.heatmap(train_data.isnull(),cbar=False,yticklabels=False,cmap='copper')"
      ],
      "execution_count": 0,
      "outputs": [
        {
          "output_type": "execute_result",
          "data": {
            "text/plain": [
              "<matplotlib.axes._subplots.AxesSubplot at 0x7fe3d5070e80>"
            ]
          },
          "metadata": {
            "tags": []
          },
          "execution_count": 7
        },
        {
          "output_type": "display_data",
          "data": {
            "image/png": "[encoded data removed]",
            "text/plain": [
              "<Figure size 864x576 with 1 Axes>"
            ]
          },
          "metadata": {
            "tags": []
          }
        }
      ]
    },
    {
      "cell_type": "code",
      "metadata": {
        "id": "CzmLenzD982p",
        "colab_type": "code",
        "colab": {}
      },
      "source": [
        "train_data.drop(['Name','PassengerId','Ticket','Cabin'],axis=1,inplace=True)\n",
        "train_data['Age']=train_data['Age'].fillna(train_data['Age'].mean())\n",
        "\n",
        "train_data['Embarked']=train_data['Embarked'].fillna(train_data['Embarked'].mode()[0])"
      ],
      "execution_count": 0,
      "outputs": []
    },
    {
      "cell_type": "code",
      "metadata": {
        "id": "aZOkcDg__7_G",
        "colab_type": "code",
        "outputId": "045eca0a-9e03-417f-e883-1a8bdabdc082",
        "colab": {
          "base_uri": "https://localhost:8080/",
          "height": 289
        }
      },
      "source": [
        "print(train_data.head())\n",
        "print('//n')\n",
        "train_data.isnull().sum()"
      ],
      "execution_count": 0,
      "outputs": [
        {
          "output_type": "stream",
          "text": [
            "   Survived  Pclass     Sex   Age  SibSp  Parch     Fare Embarked\n",
            "0         0       3    male  22.0      1      0   7.2500        S\n",
            "1         1       1  female  38.0      1      0  71.2833        C\n",
            "2         1       3  female  26.0      0      0   7.9250        S\n",
            "3         1       1  female  35.0      1      0  53.1000        S\n",
            "4         0       3    male  35.0      0      0   8.0500        S\n",
            "//n\n"
          ],
          "name": "stdout"
        },
        {
          "output_type": "execute_result",
          "data": {
            "text/plain": [
              "Survived    0\n",
              "Pclass      0\n",
              "Sex         0\n",
              "Age         0\n",
              "SibSp       0\n",
              "Parch       0\n",
              "Fare        0\n",
              "Embarked    0\n",
              "dtype: int64"
            ]
          },
          "metadata": {
            "tags": []
          },
          "execution_count": 9
        }
      ]
    },
    {
      "cell_type": "code",
      "metadata": {
        "id": "m8OtYCySAEmC",
        "colab_type": "code",
        "colab": {}
      },
      "source": [
        "from sklearn.preprocessing import LabelEncoder\n",
        "le=LabelEncoder()\n",
        "train_data['Sex']=le.fit_transform(train_data['Sex'])\n"
      ],
      "execution_count": 0,
      "outputs": []
    },
    {
      "cell_type": "code",
      "metadata": {
        "id": "Exm9cRtbE2in",
        "colab_type": "code",
        "colab": {}
      },
      "source": [
        "train_data['Embarked']=le.fit_transform(train_data['Embarked'])"
      ],
      "execution_count": 0,
      "outputs": []
    },
    {
      "cell_type": "code",
      "metadata": {
        "id": "jsyZKnK7EY96",
        "colab_type": "code",
        "outputId": "72ad899a-5873-48ec-acae-031ff51e78cb",
        "colab": {
          "base_uri": "https://localhost:8080/",
          "height": 204
        }
      },
      "source": [
        "train_data.head()"
      ],
      "execution_count": 0,
      "outputs": [
        {
          "output_type": "execute_result",
          "data": {
            "text/html": [
              "<div>\n",
              "<style scoped>\n",
              "    .dataframe tbody tr th:only-of-type {\n",
              "        vertical-align: middle;\n",
              "    }\n",
              "\n",
              "    .dataframe tbody tr th {\n",
              "        vertical-align: top;\n",
              "    }\n",
              "\n",
              "    .dataframe thead th {\n",
              "        text-align: right;\n",
              "    }\n",
              "</style>\n",
              "<table border=\"1\" class=\"dataframe\">\n",
              "  <thead>\n",
              "    <tr style=\"text-align: right;\">\n",
              "      <th></th>\n",
              "      <th>Survived</th>\n",
              "      <th>Pclass</th>\n",
              "      <th>Sex</th>\n",
              "      <th>Age</th>\n",
              "      <th>SibSp</th>\n",
              "      <th>Parch</th>\n",
              "      <th>Fare</th>\n",
              "      <th>Embarked</th>\n",
              "    </tr>\n",
              "  </thead>\n",
              "  <tbody>\n",
              "    <tr>\n",
              "      <th>0</th>\n",
              "      <td>0</td>\n",
              "      <td>3</td>\n",
              "      <td>1</td>\n",
              "      <td>22.0</td>\n",
              "      <td>1</td>\n",
              "      <td>0</td>\n",
              "      <td>7.2500</td>\n",
              "      <td>2</td>\n",
              "    </tr>\n",
              "    <tr>\n",
              "      <th>1</th>\n",
              "      <td>1</td>\n",
              "      <td>1</td>\n",
              "      <td>0</td>\n",
              "      <td>38.0</td>\n",
              "      <td>1</td>\n",
              "      <td>0</td>\n",
              "      <td>71.2833</td>\n",
              "      <td>0</td>\n",
              "    </tr>\n",
              "    <tr>\n",
              "      <th>2</th>\n",
              "      <td>1</td>\n",
              "      <td>3</td>\n",
              "      <td>0</td>\n",
              "      <td>26.0</td>\n",
              "      <td>0</td>\n",
              "      <td>0</td>\n",
              "      <td>7.9250</td>\n",
              "      <td>2</td>\n",
              "    </tr>\n",
              "    <tr>\n",
              "      <th>3</th>\n",
              "      <td>1</td>\n",
              "      <td>1</td>\n",
              "      <td>0</td>\n",
              "      <td>35.0</td>\n",
              "      <td>1</td>\n",
              "      <td>0</td>\n",
              "      <td>53.1000</td>\n",
              "      <td>2</td>\n",
              "    </tr>\n",
              "    <tr>\n",
              "      <th>4</th>\n",
              "      <td>0</td>\n",
              "      <td>3</td>\n",
              "      <td>1</td>\n",
              "      <td>35.0</td>\n",
              "      <td>0</td>\n",
              "      <td>0</td>\n",
              "      <td>8.0500</td>\n",
              "      <td>2</td>\n",
              "    </tr>\n",
              "  </tbody>\n",
              "</table>\n",
              "</div>"
            ],
            "text/plain": [
              "   Survived  Pclass  Sex   Age  SibSp  Parch     Fare  Embarked\n",
              "0         0       3    1  22.0      1      0   7.2500         2\n",
              "1         1       1    0  38.0      1      0  71.2833         0\n",
              "2         1       3    0  26.0      0      0   7.9250         2\n",
              "3         1       1    0  35.0      1      0  53.1000         2\n",
              "4         0       3    1  35.0      0      0   8.0500         2"
            ]
          },
          "metadata": {
            "tags": []
          },
          "execution_count": 12
        }
      ]
    },
    {
      "cell_type": "code",
      "metadata": {
        "id": "OBRtsaiXwGBb",
        "colab_type": "code",
        "colab": {}
      },
      "source": [
        "clean_train=train_data.copy()"
      ],
      "execution_count": 0,
      "outputs": []
    },
    {
      "cell_type": "code",
      "metadata": {
        "id": "Hj4gq5Gb7kx1",
        "colab_type": "code",
        "outputId": "9b211944-8375-41a3-c846-b8b3e1e601a7",
        "colab": {
          "base_uri": "https://localhost:8080/",
          "height": 34
        }
      },
      "source": [
        "train_data.shape"
      ],
      "execution_count": 0,
      "outputs": [
        {
          "output_type": "execute_result",
          "data": {
            "text/plain": [
              "(891, 8)"
            ]
          },
          "metadata": {
            "tags": []
          },
          "execution_count": 14
        }
      ]
    },
    {
      "cell_type": "code",
      "metadata": {
        "id": "x4ZAr4DW4n6x",
        "colab_type": "code",
        "outputId": "f0184562-b9d6-481d-8ce3-db53dd09e01b",
        "colab": {
          "base_uri": "https://localhost:8080/",
          "height": 204
        }
      },
      "source": [
        "test_data.tail()"
      ],
      "execution_count": 0,
      "outputs": [
        {
          "output_type": "execute_result",
          "data": {
            "text/html": [
              "<div>\n",
              "<style scoped>\n",
              "    .dataframe tbody tr th:only-of-type {\n",
              "        vertical-align: middle;\n",
              "    }\n",
              "\n",
              "    .dataframe tbody tr th {\n",
              "        vertical-align: top;\n",
              "    }\n",
              "\n",
              "    .dataframe thead th {\n",
              "        text-align: right;\n",
              "    }\n",
              "</style>\n",
              "<table border=\"1\" class=\"dataframe\">\n",
              "  <thead>\n",
              "    <tr style=\"text-align: right;\">\n",
              "      <th></th>\n",
              "      <th>PassengerId</th>\n",
              "      <th>Pclass</th>\n",
              "      <th>Name</th>\n",
              "      <th>Sex</th>\n",
              "      <th>Age</th>\n",
              "      <th>SibSp</th>\n",
              "      <th>Parch</th>\n",
              "      <th>Ticket</th>\n",
              "      <th>Fare</th>\n",
              "      <th>Cabin</th>\n",
              "      <th>Embarked</th>\n",
              "    </tr>\n",
              "  </thead>\n",
              "  <tbody>\n",
              "    <tr>\n",
              "      <th>413</th>\n",
              "      <td>1305</td>\n",
              "      <td>3</td>\n",
              "      <td>Spector, Mr. Woolf</td>\n",
              "      <td>male</td>\n",
              "      <td>NaN</td>\n",
              "      <td>0</td>\n",
              "      <td>0</td>\n",
              "      <td>A.5. 3236</td>\n",
              "      <td>8.0500</td>\n",
              "      <td>NaN</td>\n",
              "      <td>S</td>\n",
              "    </tr>\n",
              "    <tr>\n",
              "      <th>414</th>\n",
              "      <td>1306</td>\n",
              "      <td>1</td>\n",
              "      <td>Oliva y Ocana, Dona. Fermina</td>\n",
              "      <td>female</td>\n",
              "      <td>39.0</td>\n",
              "      <td>0</td>\n",
              "      <td>0</td>\n",
              "      <td>PC 17758</td>\n",
              "      <td>108.9000</td>\n",
              "      <td>C105</td>\n",
              "      <td>C</td>\n",
              "    </tr>\n",
              "    <tr>\n",
              "      <th>415</th>\n",
              "      <td>1307</td>\n",
              "      <td>3</td>\n",
              "      <td>Saether, Mr. Simon Sivertsen</td>\n",
              "      <td>male</td>\n",
              "      <td>38.5</td>\n",
              "      <td>0</td>\n",
              "      <td>0</td>\n",
              "      <td>SOTON/O.Q. 3101262</td>\n",
              "      <td>7.2500</td>\n",
              "      <td>NaN</td>\n",
              "      <td>S</td>\n",
              "    </tr>\n",
              "    <tr>\n",
              "      <th>416</th>\n",
              "      <td>1308</td>\n",
              "      <td>3</td>\n",
              "      <td>Ware, Mr. Frederick</td>\n",
              "      <td>male</td>\n",
              "      <td>NaN</td>\n",
              "      <td>0</td>\n",
              "      <td>0</td>\n",
              "      <td>359309</td>\n",
              "      <td>8.0500</td>\n",
              "      <td>NaN</td>\n",
              "      <td>S</td>\n",
              "    </tr>\n",
              "    <tr>\n",
              "      <th>417</th>\n",
              "      <td>1309</td>\n",
              "      <td>3</td>\n",
              "      <td>Peter, Master. Michael J</td>\n",
              "      <td>male</td>\n",
              "      <td>NaN</td>\n",
              "      <td>1</td>\n",
              "      <td>1</td>\n",
              "      <td>2668</td>\n",
              "      <td>22.3583</td>\n",
              "      <td>NaN</td>\n",
              "      <td>C</td>\n",
              "    </tr>\n",
              "  </tbody>\n",
              "</table>\n",
              "</div>"
            ],
            "text/plain": [
              "     PassengerId  Pclass                          Name  ...      Fare  Cabin  Embarked\n",
              "413         1305       3            Spector, Mr. Woolf  ...    8.0500    NaN         S\n",
              "414         1306       1  Oliva y Ocana, Dona. Fermina  ...  108.9000   C105         C\n",
              "415         1307       3  Saether, Mr. Simon Sivertsen  ...    7.2500    NaN         S\n",
              "416         1308       3           Ware, Mr. Frederick  ...    8.0500    NaN         S\n",
              "417         1309       3      Peter, Master. Michael J  ...   22.3583    NaN         C\n",
              "\n",
              "[5 rows x 11 columns]"
            ]
          },
          "metadata": {
            "tags": []
          },
          "execution_count": 15
        }
      ]
    },
    {
      "cell_type": "code",
      "metadata": {
        "id": "meprvtpk4uL4",
        "colab_type": "code",
        "outputId": "5b252ed5-fa3d-4212-8a00-be44c5dd2d4e",
        "colab": {
          "base_uri": "https://localhost:8080/",
          "height": 221
        }
      },
      "source": [
        "test_data.isnull().sum()"
      ],
      "execution_count": 0,
      "outputs": [
        {
          "output_type": "execute_result",
          "data": {
            "text/plain": [
              "PassengerId      0\n",
              "Pclass           0\n",
              "Name             0\n",
              "Sex              0\n",
              "Age             86\n",
              "SibSp            0\n",
              "Parch            0\n",
              "Ticket           0\n",
              "Fare             1\n",
              "Cabin          327\n",
              "Embarked         0\n",
              "dtype: int64"
            ]
          },
          "metadata": {
            "tags": []
          },
          "execution_count": 16
        }
      ]
    },
    {
      "cell_type": "code",
      "metadata": {
        "id": "a8y93sg54uRV",
        "colab_type": "code",
        "outputId": "3a27cd82-0660-4a4d-914b-393498c387ea",
        "colab": {
          "base_uri": "https://localhost:8080/",
          "height": 34
        }
      },
      "source": [
        "test_data.shape"
      ],
      "execution_count": 0,
      "outputs": [
        {
          "output_type": "execute_result",
          "data": {
            "text/plain": [
              "(418, 11)"
            ]
          },
          "metadata": {
            "tags": []
          },
          "execution_count": 17
        }
      ]
    },
    {
      "cell_type": "code",
      "metadata": {
        "id": "MGA1o2RK4uW5",
        "colab_type": "code",
        "outputId": "7f69461a-bdd1-489d-e692-b2e59aaa9244",
        "colab": {
          "base_uri": "https://localhost:8080/",
          "height": 503
        }
      },
      "source": [
        "plt.figure(figsize=(12,8))\n",
        "sns.heatmap(test_data.isnull(),cbar=False,yticklabels=False,cmap='copper')"
      ],
      "execution_count": 0,
      "outputs": [
        {
          "output_type": "execute_result",
          "data": {
            "text/plain": [
              "<matplotlib.axes._subplots.AxesSubplot at 0x7fe3cfe71080>"
            ]
          },
          "metadata": {
            "tags": []
          },
          "execution_count": 18
        },
        {
          "output_type": "display_data",
          "data": {
            "image/png": "[encoded data removed]",
            "text/plain": [
              "<Figure size 864x576 with 1 Axes>"
            ]
          },
          "metadata": {
            "tags": []
          }
        }
      ]
    },
    {
      "cell_type": "code",
      "metadata": {
        "id": "L3uNBo1M4ugh",
        "colab_type": "code",
        "colab": {}
      },
      "source": [
        "test_data.drop(['Name','PassengerId','Ticket','Cabin'],axis=1,inplace=True)\n",
        "test_data['Age']=test_data['Age'].fillna(test_data['Age'].mean())\n",
        "test_data['Fare']=test_data['Fare'].fillna(test_data['Fare'].mean())"
      ],
      "execution_count": 0,
      "outputs": []
    },
    {
      "cell_type": "code",
      "metadata": {
        "id": "ToscdZHc4ulk",
        "colab_type": "code",
        "outputId": "1b17dc16-84fb-48b1-c9a8-41e7dbaa076e",
        "colab": {
          "base_uri": "https://localhost:8080/",
          "height": 153
        }
      },
      "source": [
        "test_data.isnull().sum()"
      ],
      "execution_count": 0,
      "outputs": [
        {
          "output_type": "execute_result",
          "data": {
            "text/plain": [
              "Pclass      0\n",
              "Sex         0\n",
              "Age         0\n",
              "SibSp       0\n",
              "Parch       0\n",
              "Fare        0\n",
              "Embarked    0\n",
              "dtype: int64"
            ]
          },
          "metadata": {
            "tags": []
          },
          "execution_count": 20
        }
      ]
    },
    {
      "cell_type": "code",
      "metadata": {
        "id": "mFmfsq1K4urD",
        "colab_type": "code",
        "colab": {}
      },
      "source": [
        "from sklearn.preprocessing import LabelEncoder\n",
        "le=LabelEncoder()\n",
        "test_data['Sex']=le.fit_transform(test_data['Sex'])\n"
      ],
      "execution_count": 0,
      "outputs": []
    },
    {
      "cell_type": "code",
      "metadata": {
        "id": "ENiiYZKq4uon",
        "colab_type": "code",
        "colab": {}
      },
      "source": [
        "test_data['Embarked']=le.fit_transform(test_data['Embarked'])"
      ],
      "execution_count": 0,
      "outputs": []
    },
    {
      "cell_type": "code",
      "metadata": {
        "id": "97FtFhGT4ujU",
        "colab_type": "code",
        "outputId": "388d7d72-e2d2-4118-ef07-29cf487925dd",
        "colab": {
          "base_uri": "https://localhost:8080/",
          "height": 204
        }
      },
      "source": [
        "test_data.head()"
      ],
      "execution_count": 0,
      "outputs": [
        {
          "output_type": "execute_result",
          "data": {
            "text/html": [
              "<div>\n",
              "<style scoped>\n",
              "    .dataframe tbody tr th:only-of-type {\n",
              "        vertical-align: middle;\n",
              "    }\n",
              "\n",
              "    .dataframe tbody tr th {\n",
              "        vertical-align: top;\n",
              "    }\n",
              "\n",
              "    .dataframe thead th {\n",
              "        text-align: right;\n",
              "    }\n",
              "</style>\n",
              "<table border=\"1\" class=\"dataframe\">\n",
              "  <thead>\n",
              "    <tr style=\"text-align: right;\">\n",
              "      <th></th>\n",
              "      <th>Pclass</th>\n",
              "      <th>Sex</th>\n",
              "      <th>Age</th>\n",
              "      <th>SibSp</th>\n",
              "      <th>Parch</th>\n",
              "      <th>Fare</th>\n",
              "      <th>Embarked</th>\n",
              "    </tr>\n",
              "  </thead>\n",
              "  <tbody>\n",
              "    <tr>\n",
              "      <th>0</th>\n",
              "      <td>3</td>\n",
              "      <td>1</td>\n",
              "      <td>34.5</td>\n",
              "      <td>0</td>\n",
              "      <td>0</td>\n",
              "      <td>7.8292</td>\n",
              "      <td>1</td>\n",
              "    </tr>\n",
              "    <tr>\n",
              "      <th>1</th>\n",
              "      <td>3</td>\n",
              "      <td>0</td>\n",
              "      <td>47.0</td>\n",
              "      <td>1</td>\n",
              "      <td>0</td>\n",
              "      <td>7.0000</td>\n",
              "      <td>2</td>\n",
              "    </tr>\n",
              "    <tr>\n",
              "      <th>2</th>\n",
              "      <td>2</td>\n",
              "      <td>1</td>\n",
              "      <td>62.0</td>\n",
              "      <td>0</td>\n",
              "      <td>0</td>\n",
              "      <td>9.6875</td>\n",
              "      <td>1</td>\n",
              "    </tr>\n",
              "    <tr>\n",
              "      <th>3</th>\n",
              "      <td>3</td>\n",
              "      <td>1</td>\n",
              "      <td>27.0</td>\n",
              "      <td>0</td>\n",
              "      <td>0</td>\n",
              "      <td>8.6625</td>\n",
              "      <td>2</td>\n",
              "    </tr>\n",
              "    <tr>\n",
              "      <th>4</th>\n",
              "      <td>3</td>\n",
              "      <td>0</td>\n",
              "      <td>22.0</td>\n",
              "      <td>1</td>\n",
              "      <td>1</td>\n",
              "      <td>12.2875</td>\n",
              "      <td>2</td>\n",
              "    </tr>\n",
              "  </tbody>\n",
              "</table>\n",
              "</div>"
            ],
            "text/plain": [
              "   Pclass  Sex   Age  SibSp  Parch     Fare  Embarked\n",
              "0       3    1  34.5      0      0   7.8292         1\n",
              "1       3    0  47.0      1      0   7.0000         2\n",
              "2       2    1  62.0      0      0   9.6875         1\n",
              "3       3    1  27.0      0      0   8.6625         2\n",
              "4       3    0  22.0      1      1  12.2875         2"
            ]
          },
          "metadata": {
            "tags": []
          },
          "execution_count": 23
        }
      ]
    },
    {
      "cell_type": "code",
      "metadata": {
        "id": "B_JEUCDe4uUO",
        "colab_type": "code",
        "outputId": "65cbcf14-d818-4488-8654-2f56d027a3e9",
        "colab": {
          "base_uri": "https://localhost:8080/",
          "height": 34
        }
      },
      "source": [
        "test_data.shape"
      ],
      "execution_count": 0,
      "outputs": [
        {
          "output_type": "execute_result",
          "data": {
            "text/plain": [
              "(418, 7)"
            ]
          },
          "metadata": {
            "tags": []
          },
          "execution_count": 24
        }
      ]
    },
    {
      "cell_type": "code",
      "metadata": {
        "id": "yfwRsVpd4uOy",
        "colab_type": "code",
        "colab": {}
      },
      "source": [
        ""
      ],
      "execution_count": 0,
      "outputs": []
    },
    {
      "cell_type": "code",
      "metadata": {
        "id": "XJf-XT7iwQHm",
        "colab_type": "code",
        "colab": {}
      },
      "source": [
        "x_train=train_data.drop(['Survived'],axis=1)"
      ],
      "execution_count": 0,
      "outputs": []
    },
    {
      "cell_type": "code",
      "metadata": {
        "id": "G4g0wcKXxWbd",
        "colab_type": "code",
        "colab": {}
      },
      "source": [
        "y_train=train_data['Survived']"
      ],
      "execution_count": 0,
      "outputs": []
    },
    {
      "cell_type": "code",
      "metadata": {
        "id": "79tQp_WezOrj",
        "colab_type": "code",
        "colab": {}
      },
      "source": [
        "from sklearn.ensemble import RandomForestClassifier\n",
        "rfc=RandomForestClassifier(n_estimators=100)"
      ],
      "execution_count": 0,
      "outputs": []
    },
    {
      "cell_type": "code",
      "metadata": {
        "id": "S9KTynq30xV1",
        "colab_type": "code",
        "outputId": "27827887-208b-4a11-fce7-334d07e975ed",
        "colab": {
          "base_uri": "https://localhost:8080/",
          "height": 136
        }
      },
      "source": [
        "rfc.fit(x_train,y_train)"
      ],
      "execution_count": 0,
      "outputs": [
        {
          "output_type": "execute_result",
          "data": {
            "text/plain": [
              "RandomForestClassifier(bootstrap=True, class_weight=None, criterion='gini',\n",
              "                       max_depth=None, max_features='auto', max_leaf_nodes=None,\n",
              "                       min_impurity_decrease=0.0, min_impurity_split=None,\n",
              "                       min_samples_leaf=1, min_samples_split=2,\n",
              "                       min_weight_fraction_leaf=0.0, n_estimators=100,\n",
              "                       n_jobs=None, oob_score=False, random_state=None,\n",
              "                       verbose=0, warm_start=False)"
            ]
          },
          "metadata": {
            "tags": []
          },
          "execution_count": 28
        }
      ]
    },
    {
      "cell_type": "code",
      "metadata": {
        "id": "F8LJcg_h04UZ",
        "colab_type": "code",
        "colab": {}
      },
      "source": [
        "pred=rfc.predict(test_data)"
      ],
      "execution_count": 0,
      "outputs": []
    },
    {
      "cell_type": "code",
      "metadata": {
        "id": "7bNUssXM1AhG",
        "colab_type": "code",
        "colab": {}
      },
      "source": [
        "acc_decision_tree = round(rfc.score(x_train, y_train) * 100, 4)"
      ],
      "execution_count": 0,
      "outputs": []
    },
    {
      "cell_type": "code",
      "metadata": {
        "id": "-S-TbTRn1nMl",
        "colab_type": "code",
        "outputId": "813e4b9b-9b5e-45ed-a2c5-de8f6e68c884",
        "colab": {
          "base_uri": "https://localhost:8080/",
          "height": 34
        }
      },
      "source": [
        "acc_decision_tree"
      ],
      "execution_count": 0,
      "outputs": [
        {
          "output_type": "execute_result",
          "data": {
            "text/plain": [
              "98.2043"
            ]
          },
          "metadata": {
            "tags": []
          },
          "execution_count": 31
        }
      ]
    },
    {
      "cell_type": "code",
      "metadata": {
        "id": "ayTVMYVx2mxV",
        "colab_type": "code",
        "outputId": "66fed326-fa23-4b32-acf3-9d2e1a8d8554",
        "colab": {
          "base_uri": "https://localhost:8080/",
          "height": 34
        }
      },
      "source": [
        "pred.shape"
      ],
      "execution_count": 0,
      "outputs": [
        {
          "output_type": "execute_result",
          "data": {
            "text/plain": [
              "(418,)"
            ]
          },
          "metadata": {
            "tags": []
          },
          "execution_count": 33
        }
      ]
    },
    {
      "cell_type": "code",
      "metadata": {
        "id": "07_QxiZw8H2a",
        "colab_type": "code",
        "colab": {}
      },
      "source": [
        "sample=pd.read_csv('/content/gender_submission.csv')"
      ],
      "execution_count": 0,
      "outputs": []
    },
    {
      "cell_type": "code",
      "metadata": {
        "id": "BJIA8G178bnL",
        "colab_type": "code",
        "outputId": "d254d496-9a8e-43b2-8869-69080c69cd32",
        "colab": {
          "base_uri": "https://localhost:8080/",
          "height": 204
        }
      },
      "source": [
        "sample.head()"
      ],
      "execution_count": 0,
      "outputs": [
        {
          "output_type": "execute_result",
          "data": {
            "text/html": [
              "<div>\n",
              "<style scoped>\n",
              "    .dataframe tbody tr th:only-of-type {\n",
              "        vertical-align: middle;\n",
              "    }\n",
              "\n",
              "    .dataframe tbody tr th {\n",
              "        vertical-align: top;\n",
              "    }\n",
              "\n",
              "    .dataframe thead th {\n",
              "        text-align: right;\n",
              "    }\n",
              "</style>\n",
              "<table border=\"1\" class=\"dataframe\">\n",
              "  <thead>\n",
              "    <tr style=\"text-align: right;\">\n",
              "      <th></th>\n",
              "      <th>PassengerId</th>\n",
              "      <th>Survived</th>\n",
              "    </tr>\n",
              "  </thead>\n",
              "  <tbody>\n",
              "    <tr>\n",
              "      <th>0</th>\n",
              "      <td>892</td>\n",
              "      <td>0</td>\n",
              "    </tr>\n",
              "    <tr>\n",
              "      <th>1</th>\n",
              "      <td>893</td>\n",
              "      <td>1</td>\n",
              "    </tr>\n",
              "    <tr>\n",
              "      <th>2</th>\n",
              "      <td>894</td>\n",
              "      <td>0</td>\n",
              "    </tr>\n",
              "    <tr>\n",
              "      <th>3</th>\n",
              "      <td>895</td>\n",
              "      <td>0</td>\n",
              "    </tr>\n",
              "    <tr>\n",
              "      <th>4</th>\n",
              "      <td>896</td>\n",
              "      <td>1</td>\n",
              "    </tr>\n",
              "  </tbody>\n",
              "</table>\n",
              "</div>"
            ],
            "text/plain": [
              "   PassengerId  Survived\n",
              "0          892         0\n",
              "1          893         1\n",
              "2          894         0\n",
              "3          895         0\n",
              "4          896         1"
            ]
          },
          "metadata": {
            "tags": []
          },
          "execution_count": 35
        }
      ]
    },
    {
      "cell_type": "code",
      "metadata": {
        "id": "CYHUkUFj8fBT",
        "colab_type": "code",
        "colab": {}
      },
      "source": [
        "sub=pd.DataFrame(pred)"
      ],
      "execution_count": 0,
      "outputs": []
    },
    {
      "cell_type": "code",
      "metadata": {
        "id": "-ZKopngY86QZ",
        "colab_type": "code",
        "colab": {}
      },
      "source": [
        "sub.columns=['Survived']"
      ],
      "execution_count": 0,
      "outputs": []
    },
    {
      "cell_type": "code",
      "metadata": {
        "id": "_Jekro1F88OI",
        "colab_type": "code",
        "colab": {}
      },
      "source": [
        "sample.drop(['Survived'],axis=1,inplace=True)"
      ],
      "execution_count": 0,
      "outputs": []
    },
    {
      "cell_type": "code",
      "metadata": {
        "id": "F5Q-tGYi9tb0",
        "colab_type": "code",
        "outputId": "2962c8e7-5cf7-43c1-a457-38464341b793",
        "colab": {
          "base_uri": "https://localhost:8080/",
          "height": 34
        }
      },
      "source": [
        "sample.size"
      ],
      "execution_count": 0,
      "outputs": [
        {
          "output_type": "execute_result",
          "data": {
            "text/plain": [
              "418"
            ]
          },
          "metadata": {
            "tags": []
          },
          "execution_count": 43
        }
      ]
    },
    {
      "cell_type": "code",
      "metadata": {
        "id": "FWPzc_ez9L62",
        "colab_type": "code",
        "colab": {}
      },
      "source": [
        "res=pd.concat([sample,sub],axis=1)"
      ],
      "execution_count": 0,
      "outputs": []
    },
    {
      "cell_type": "code",
      "metadata": {
        "id": "-PeiY8O79oqT",
        "colab_type": "code",
        "outputId": "ac82e28e-d0f8-4bbc-8520-e3c19c3b5a6f",
        "colab": {
          "base_uri": "https://localhost:8080/",
          "height": 204
        }
      },
      "source": [
        "res.head()"
      ],
      "execution_count": 0,
      "outputs": [
        {
          "output_type": "execute_result",
          "data": {
            "text/html": [
              "<div>\n",
              "<style scoped>\n",
              "    .dataframe tbody tr th:only-of-type {\n",
              "        vertical-align: middle;\n",
              "    }\n",
              "\n",
              "    .dataframe tbody tr th {\n",
              "        vertical-align: top;\n",
              "    }\n",
              "\n",
              "    .dataframe thead th {\n",
              "        text-align: right;\n",
              "    }\n",
              "</style>\n",
              "<table border=\"1\" class=\"dataframe\">\n",
              "  <thead>\n",
              "    <tr style=\"text-align: right;\">\n",
              "      <th></th>\n",
              "      <th>PassengerId</th>\n",
              "      <th>Survived</th>\n",
              "    </tr>\n",
              "  </thead>\n",
              "  <tbody>\n",
              "    <tr>\n",
              "      <th>0</th>\n",
              "      <td>892</td>\n",
              "      <td>0</td>\n",
              "    </tr>\n",
              "    <tr>\n",
              "      <th>1</th>\n",
              "      <td>893</td>\n",
              "      <td>0</td>\n",
              "    </tr>\n",
              "    <tr>\n",
              "      <th>2</th>\n",
              "      <td>894</td>\n",
              "      <td>0</td>\n",
              "    </tr>\n",
              "    <tr>\n",
              "      <th>3</th>\n",
              "      <td>895</td>\n",
              "      <td>1</td>\n",
              "    </tr>\n",
              "    <tr>\n",
              "      <th>4</th>\n",
              "      <td>896</td>\n",
              "      <td>1</td>\n",
              "    </tr>\n",
              "  </tbody>\n",
              "</table>\n",
              "</div>"
            ],
            "text/plain": [
              "   PassengerId  Survived\n",
              "0          892         0\n",
              "1          893         0\n",
              "2          894         0\n",
              "3          895         1\n",
              "4          896         1"
            ]
          },
          "metadata": {
            "tags": []
          },
          "execution_count": 45
        }
      ]
    },
    {
      "cell_type": "code",
      "metadata": {
        "id": "sDrNz3qI-MU_",
        "colab_type": "code",
        "colab": {}
      },
      "source": [
        "res.to_csv('titanic',index=False)"
      ],
      "execution_count": 0,
      "outputs": []
    },
    {
      "cell_type": "code",
      "metadata": {
        "id": "lj6vFt_g-srq",
        "colab_type": "code",
        "colab": {}
      },
      "source": [
        "#using xgboost\n"
      ],
      "execution_count": 0,
      "outputs": []
    },
    {
      "cell_type": "code",
      "metadata": {
        "id": "c4k1N6WYDzTo",
        "colab_type": "code",
        "outputId": "3fb3020f-0964-4616-936d-ee65f0a407c8",
        "colab": {
          "base_uri": "https://localhost:8080/",
          "height": 136
        }
      },
      "source": [
        "from xgboost import XGBClassifier\n",
        "model=XGBClassifier()\n",
        "model.fit(x_train,y_train)"
      ],
      "execution_count": 0,
      "outputs": [
        {
          "output_type": "execute_result",
          "data": {
            "text/plain": [
              "XGBClassifier(base_score=0.5, booster='gbtree', colsample_bylevel=1,\n",
              "              colsample_bynode=1, colsample_bytree=1, gamma=0,\n",
              "              learning_rate=0.1, max_delta_step=0, max_depth=3,\n",
              "              min_child_weight=1, missing=None, n_estimators=100, n_jobs=1,\n",
              "              nthread=None, objective='binary:logistic', random_state=0,\n",
              "              reg_alpha=0, reg_lambda=1, scale_pos_weight=1, seed=None,\n",
              "              silent=None, subsample=1, verbosity=1)"
            ]
          },
          "metadata": {
            "tags": []
          },
          "execution_count": 30
        }
      ]
    },
    {
      "cell_type": "code",
      "metadata": {
        "id": "emO4QjEpCmHP",
        "colab_type": "code",
        "colab": {}
      },
      "source": [
        "pred1=model.predict(test_data)"
      ],
      "execution_count": 0,
      "outputs": []
    },
    {
      "cell_type": "code",
      "metadata": {
        "id": "a_OGHrIgCz-c",
        "colab_type": "code",
        "outputId": "3f8a2e60-529e-4de7-c676-2d7b83d204ab",
        "colab": {
          "base_uri": "https://localhost:8080/",
          "height": 340
        }
      },
      "source": [
        "pred1"
      ],
      "execution_count": 0,
      "outputs": [
        {
          "output_type": "execute_result",
          "data": {
            "text/plain": [
              "array([0, 0, 0, 0, 0, 0, 1, 0, 1, 0, 0, 0, 1, 0, 1, 1, 0, 0, 1, 0, 0, 1,\n",
              "       1, 1, 1, 0, 1, 0, 1, 0, 0, 0, 0, 0, 1, 0, 0, 0, 0, 0, 0, 0, 0, 1,\n",
              "       1, 0, 0, 0, 1, 1, 0, 0, 1, 1, 0, 0, 0, 0, 0, 1, 0, 0, 0, 1, 1, 1,\n",
              "       1, 0, 0, 1, 1, 0, 1, 0, 1, 1, 0, 1, 0, 1, 1, 0, 0, 0, 0, 0, 1, 0,\n",
              "       1, 1, 0, 0, 1, 0, 0, 0, 1, 0, 1, 0, 1, 0, 0, 0, 1, 0, 0, 0, 0, 0,\n",
              "       0, 1, 1, 1, 1, 0, 0, 1, 0, 1, 1, 0, 1, 0, 0, 1, 0, 1, 0, 0, 0, 0,\n",
              "       0, 0, 0, 0, 0, 0, 0, 0, 0, 1, 0, 0, 0, 0, 0, 0, 0, 0, 1, 0, 0, 1,\n",
              "       0, 0, 1, 1, 0, 0, 1, 1, 1, 0, 0, 0, 0, 0, 1, 0, 0, 0, 0, 0, 0, 1,\n",
              "       1, 0, 1, 1, 0, 0, 1, 0, 1, 0, 1, 0, 0, 0, 0, 0, 0, 0, 1, 0, 1, 1,\n",
              "       0, 0, 1, 1, 0, 1, 0, 0, 1, 0, 1, 0, 0, 0, 0, 1, 1, 0, 1, 0, 1, 0,\n",
              "       1, 0, 1, 0, 1, 0, 0, 1, 0, 0, 0, 1, 0, 0, 0, 0, 0, 0, 1, 1, 1, 1,\n",
              "       0, 0, 0, 0, 1, 0, 1, 0, 1, 0, 0, 0, 0, 0, 0, 0, 1, 0, 0, 0, 1, 1,\n",
              "       0, 0, 0, 0, 0, 0, 0, 0, 1, 1, 0, 1, 0, 0, 0, 0, 0, 1, 1, 1, 1, 0,\n",
              "       0, 0, 0, 0, 0, 0, 0, 0, 0, 0, 1, 0, 0, 0, 0, 0, 0, 0, 1, 1, 0, 1,\n",
              "       0, 0, 0, 0, 0, 0, 1, 1, 0, 0, 0, 0, 0, 0, 0, 1, 1, 0, 1, 0, 0, 0,\n",
              "       1, 0, 0, 1, 0, 0, 0, 0, 0, 0, 0, 0, 0, 1, 0, 1, 0, 0, 0, 1, 1, 0,\n",
              "       0, 0, 1, 0, 1, 0, 0, 0, 0, 1, 1, 0, 1, 0, 0, 0, 1, 0, 0, 1, 0, 0,\n",
              "       1, 1, 0, 0, 0, 0, 0, 0, 0, 0, 0, 1, 0, 0, 0, 0, 0, 1, 0, 0, 0, 1,\n",
              "       0, 1, 0, 0, 1, 0, 1, 0, 0, 0, 0, 0, 1, 1, 1, 1, 1, 0, 1, 0, 0, 0])"
            ]
          },
          "metadata": {
            "tags": []
          },
          "execution_count": 32
        }
      ]
    },
    {
      "cell_type": "code",
      "metadata": {
        "id": "7Np-LUnwC1kr",
        "colab_type": "code",
        "outputId": "baf33172-94d1-4bde-c24e-05eb9536cbd4",
        "colab": {
          "base_uri": "https://localhost:8080/",
          "height": 34
        }
      },
      "source": [
        "pred1.shape"
      ],
      "execution_count": 0,
      "outputs": [
        {
          "output_type": "execute_result",
          "data": {
            "text/plain": [
              "(418,)"
            ]
          },
          "metadata": {
            "tags": []
          },
          "execution_count": 33
        }
      ]
    },
    {
      "cell_type": "code",
      "metadata": {
        "id": "-qCw3d9cHdFA",
        "colab_type": "code",
        "colab": {}
      },
      "source": [
        "acc_xgb = round(model.score(x_train, y_train) * 100, 4)"
      ],
      "execution_count": 0,
      "outputs": []
    },
    {
      "cell_type": "code",
      "metadata": {
        "id": "LZeWxwcwHhso",
        "colab_type": "code",
        "outputId": "93c1e6de-1407-447e-9825-a636ec292e08",
        "colab": {
          "base_uri": "https://localhost:8080/",
          "height": 34
        }
      },
      "source": [
        "acc_xgb"
      ],
      "execution_count": 0,
      "outputs": [
        {
          "output_type": "execute_result",
          "data": {
            "text/plain": [
              "87.2054"
            ]
          },
          "metadata": {
            "tags": []
          },
          "execution_count": 35
        }
      ]
    },
    {
      "cell_type": "code",
      "metadata": {
        "id": "cP1maF-2HjOh",
        "colab_type": "code",
        "colab": {}
      },
      "source": [
        "#output of xgb\n",
        "sample=pd.read_csv('/content/gender_submission.csv')\n",
        "sub1=pd.DataFrame(pred1)\n",
        "sub1.columns=['Survived']\n",
        "sample.drop(['Survived'],axis=1,inplace=True)\n",
        "res1=pd.concat([sample,sub1],axis=1)"
      ],
      "execution_count": 0,
      "outputs": []
    },
    {
      "cell_type": "code",
      "metadata": {
        "id": "UYllzyl5IdI1",
        "colab_type": "code",
        "outputId": "a645d4b2-1f9b-4fc1-8ffd-fd669a6c8b46",
        "colab": {
          "base_uri": "https://localhost:8080/",
          "height": 204
        }
      },
      "source": [
        "res1.head()"
      ],
      "execution_count": 0,
      "outputs": [
        {
          "output_type": "execute_result",
          "data": {
            "text/html": [
              "<div>\n",
              "<style scoped>\n",
              "    .dataframe tbody tr th:only-of-type {\n",
              "        vertical-align: middle;\n",
              "    }\n",
              "\n",
              "    .dataframe tbody tr th {\n",
              "        vertical-align: top;\n",
              "    }\n",
              "\n",
              "    .dataframe thead th {\n",
              "        text-align: right;\n",
              "    }\n",
              "</style>\n",
              "<table border=\"1\" class=\"dataframe\">\n",
              "  <thead>\n",
              "    <tr style=\"text-align: right;\">\n",
              "      <th></th>\n",
              "      <th>PassengerId</th>\n",
              "      <th>Survived</th>\n",
              "    </tr>\n",
              "  </thead>\n",
              "  <tbody>\n",
              "    <tr>\n",
              "      <th>0</th>\n",
              "      <td>892</td>\n",
              "      <td>0</td>\n",
              "    </tr>\n",
              "    <tr>\n",
              "      <th>1</th>\n",
              "      <td>893</td>\n",
              "      <td>0</td>\n",
              "    </tr>\n",
              "    <tr>\n",
              "      <th>2</th>\n",
              "      <td>894</td>\n",
              "      <td>0</td>\n",
              "    </tr>\n",
              "    <tr>\n",
              "      <th>3</th>\n",
              "      <td>895</td>\n",
              "      <td>0</td>\n",
              "    </tr>\n",
              "    <tr>\n",
              "      <th>4</th>\n",
              "      <td>896</td>\n",
              "      <td>0</td>\n",
              "    </tr>\n",
              "  </tbody>\n",
              "</table>\n",
              "</div>"
            ],
            "text/plain": [
              "   PassengerId  Survived\n",
              "0          892         0\n",
              "1          893         0\n",
              "2          894         0\n",
              "3          895         0\n",
              "4          896         0"
            ]
          },
          "metadata": {
            "tags": []
          },
          "execution_count": 37
        }
      ]
    },
    {
      "cell_type": "code",
      "metadata": {
        "id": "ow79GvQAIPsd",
        "colab_type": "code",
        "colab": {}
      },
      "source": [
        "res1.to_csv('titanic_xgb',index=False)"
      ],
      "execution_count": 0,
      "outputs": []
    },
    {
      "cell_type": "code",
      "metadata": {
        "id": "6koGoVyRIiij",
        "colab_type": "code",
        "colab": {}
      },
      "source": [
        "#using ANN"
      ],
      "execution_count": 0,
      "outputs": []
    },
    {
      "cell_type": "code",
      "metadata": {
        "id": "Ie1Rr3yNKS6E",
        "colab_type": "code",
        "colab": {}
      },
      "source": [
        "import keras"
      ],
      "execution_count": 0,
      "outputs": []
    },
    {
      "cell_type": "code",
      "metadata": {
        "id": "38ha3nznKYG5",
        "colab_type": "code",
        "colab": {}
      },
      "source": [
        "from keras.models import Sequential\n",
        "from keras.layers import Dense"
      ],
      "execution_count": 0,
      "outputs": []
    },
    {
      "cell_type": "code",
      "metadata": {
        "id": "dXUhw3xsKlrf",
        "colab_type": "code",
        "colab": {}
      },
      "source": [
        "ann_model=Sequential()"
      ],
      "execution_count": 0,
      "outputs": []
    },
    {
      "cell_type": "code",
      "metadata": {
        "id": "MehwxVdVKmWS",
        "colab_type": "code",
        "colab": {}
      },
      "source": [
        "ann_model.add(Dense(25,kernel_initializer='uniform',activation='sigmoid',input_dim=7))"
      ],
      "execution_count": 0,
      "outputs": []
    },
    {
      "cell_type": "code",
      "metadata": {
        "id": "pVqYxaRgKmTp",
        "colab_type": "code",
        "colab": {}
      },
      "source": [
        "ann_model.add(Dense(10,kernel_initializer='uniform',activation='sigmoid'))"
      ],
      "execution_count": 0,
      "outputs": []
    },
    {
      "cell_type": "code",
      "metadata": {
        "id": "qLAZ9JttNppK",
        "colab_type": "code",
        "colab": {}
      },
      "source": [
        "ann_model.add(Dense(25,kernel_initializer='uniform',activation='sigmoid'))"
      ],
      "execution_count": 0,
      "outputs": []
    },
    {
      "cell_type": "code",
      "metadata": {
        "id": "fUyqvxD3NxIy",
        "colab_type": "code",
        "colab": {}
      },
      "source": [
        "#output\n",
        "ann_model.add(Dense(1,activation='sigmoid',kernel_initializer='uniform'))"
      ],
      "execution_count": 0,
      "outputs": []
    },
    {
      "cell_type": "code",
      "metadata": {
        "id": "UwMyYUSGOzSH",
        "colab_type": "code",
        "colab": {}
      },
      "source": [
        "#compile\n",
        "ann_model.compile(optimizer='adam',loss='binary_crossentropy',metrics=['accuracy'])"
      ],
      "execution_count": 0,
      "outputs": []
    },
    {
      "cell_type": "code",
      "metadata": {
        "id": "VxvgFLxOPcTm",
        "colab_type": "code",
        "outputId": "154fcea4-469b-499e-a0b1-bef56b858b23",
        "colab": {
          "base_uri": "https://localhost:8080/",
          "height": 1000
        }
      },
      "source": [
        "ann_model.fit(x_train,y_train,batch_size=10,epochs=100)"
      ],
      "execution_count": 0,
      "outputs": [
        {
          "output_type": "stream",
          "text": [
            "Epoch 1/100\n",
            "891/891 [==============================] - 1s 949us/step - loss: 0.6744 - acc: 0.6027\n",
            "Epoch 2/100\n",
            "891/891 [==============================] - 0s 149us/step - loss: 0.6673 - acc: 0.6162\n",
            "Epoch 3/100\n",
            "891/891 [==============================] - 0s 142us/step - loss: 0.6663 - acc: 0.6162\n",
            "Epoch 4/100\n",
            "891/891 [==============================] - 0s 152us/step - loss: 0.6670 - acc: 0.6162\n",
            "Epoch 5/100\n",
            "891/891 [==============================] - 0s 148us/step - loss: 0.6661 - acc: 0.6162\n",
            "Epoch 6/100\n",
            "891/891 [==============================] - 0s 146us/step - loss: 0.6673 - acc: 0.6162\n",
            "Epoch 7/100\n",
            "891/891 [==============================] - 0s 141us/step - loss: 0.6656 - acc: 0.6162\n",
            "Epoch 8/100\n",
            "891/891 [==============================] - 0s 150us/step - loss: 0.6653 - acc: 0.6162\n",
            "Epoch 9/100\n",
            "891/891 [==============================] - 0s 144us/step - loss: 0.6656 - acc: 0.6162\n",
            "Epoch 10/100\n",
            "891/891 [==============================] - 0s 142us/step - loss: 0.6647 - acc: 0.6162\n",
            "Epoch 11/100\n",
            "891/891 [==============================] - 0s 145us/step - loss: 0.6627 - acc: 0.6162\n",
            "Epoch 12/100\n",
            "891/891 [==============================] - 0s 142us/step - loss: 0.6598 - acc: 0.6162\n",
            "Epoch 13/100\n",
            "891/891 [==============================] - 0s 146us/step - loss: 0.6575 - acc: 0.6162\n",
            "Epoch 14/100\n",
            "891/891 [==============================] - 0s 147us/step - loss: 0.6537 - acc: 0.6162\n",
            "Epoch 15/100\n",
            "891/891 [==============================] - 0s 160us/step - loss: 0.6479 - acc: 0.6162\n",
            "Epoch 16/100\n",
            "891/891 [==============================] - 0s 165us/step - loss: 0.6372 - acc: 0.6162\n",
            "Epoch 17/100\n",
            "891/891 [==============================] - 0s 162us/step - loss: 0.6271 - acc: 0.6162\n",
            "Epoch 18/100\n",
            "891/891 [==============================] - 0s 161us/step - loss: 0.6135 - acc: 0.6162\n",
            "Epoch 19/100\n",
            "891/891 [==============================] - 0s 157us/step - loss: 0.5973 - acc: 0.6162\n",
            "Epoch 20/100\n",
            "891/891 [==============================] - 0s 140us/step - loss: 0.5822 - acc: 0.6162\n",
            "Epoch 21/100\n",
            "891/891 [==============================] - 0s 147us/step - loss: 0.5826 - acc: 0.6532\n",
            "Epoch 22/100\n",
            "891/891 [==============================] - 0s 143us/step - loss: 0.5579 - acc: 0.7666\n",
            "Epoch 23/100\n",
            "891/891 [==============================] - 0s 142us/step - loss: 0.5339 - acc: 0.7946\n",
            "Epoch 24/100\n",
            "891/891 [==============================] - 0s 152us/step - loss: 0.5220 - acc: 0.7957\n",
            "Epoch 25/100\n",
            "891/891 [==============================] - 0s 150us/step - loss: 0.5272 - acc: 0.7890\n",
            "Epoch 26/100\n",
            "891/891 [==============================] - 0s 145us/step - loss: 0.4901 - acc: 0.8182\n",
            "Epoch 27/100\n",
            "891/891 [==============================] - 0s 147us/step - loss: 0.5166 - acc: 0.7609\n",
            "Epoch 28/100\n",
            "891/891 [==============================] - 0s 149us/step - loss: 0.5101 - acc: 0.7654\n",
            "Epoch 29/100\n",
            "891/891 [==============================] - 0s 147us/step - loss: 0.4943 - acc: 0.8025\n",
            "Epoch 30/100\n",
            "891/891 [==============================] - 0s 146us/step - loss: 0.5085 - acc: 0.7901\n",
            "Epoch 31/100\n",
            "891/891 [==============================] - 0s 147us/step - loss: 0.4835 - acc: 0.8092\n",
            "Epoch 32/100\n",
            "891/891 [==============================] - 0s 152us/step - loss: 0.4764 - acc: 0.8126\n",
            "Epoch 33/100\n",
            "891/891 [==============================] - 0s 144us/step - loss: 0.4885 - acc: 0.7924\n",
            "Epoch 34/100\n",
            "891/891 [==============================] - 0s 147us/step - loss: 0.4830 - acc: 0.7969\n",
            "Epoch 35/100\n",
            "891/891 [==============================] - 0s 153us/step - loss: 0.4812 - acc: 0.7935\n",
            "Epoch 36/100\n",
            "891/891 [==============================] - 0s 145us/step - loss: 0.4856 - acc: 0.7924\n",
            "Epoch 37/100\n",
            "891/891 [==============================] - 0s 144us/step - loss: 0.4737 - acc: 0.8047\n",
            "Epoch 38/100\n",
            "891/891 [==============================] - 0s 154us/step - loss: 0.4602 - acc: 0.8126\n",
            "Epoch 39/100\n",
            "891/891 [==============================] - 0s 148us/step - loss: 0.4672 - acc: 0.8047\n",
            "Epoch 40/100\n",
            "891/891 [==============================] - 0s 145us/step - loss: 0.4623 - acc: 0.8103\n",
            "Epoch 41/100\n",
            "891/891 [==============================] - 0s 152us/step - loss: 0.4554 - acc: 0.8092\n",
            "Epoch 42/100\n",
            "891/891 [==============================] - 0s 151us/step - loss: 0.4548 - acc: 0.8103\n",
            "Epoch 43/100\n",
            "891/891 [==============================] - 0s 151us/step - loss: 0.4536 - acc: 0.8126\n",
            "Epoch 44/100\n",
            "891/891 [==============================] - 0s 147us/step - loss: 0.4536 - acc: 0.8092\n",
            "Epoch 45/100\n",
            "891/891 [==============================] - 0s 149us/step - loss: 0.4536 - acc: 0.8182\n",
            "Epoch 46/100\n",
            "891/891 [==============================] - 0s 147us/step - loss: 0.4528 - acc: 0.8126\n",
            "Epoch 47/100\n",
            "891/891 [==============================] - 0s 148us/step - loss: 0.4480 - acc: 0.8159\n",
            "Epoch 48/100\n",
            "891/891 [==============================] - 0s 147us/step - loss: 0.4455 - acc: 0.8159\n",
            "Epoch 49/100\n",
            "891/891 [==============================] - 0s 159us/step - loss: 0.4452 - acc: 0.8070\n",
            "Epoch 50/100\n",
            "891/891 [==============================] - 0s 153us/step - loss: 0.4511 - acc: 0.8002\n",
            "Epoch 51/100\n",
            "891/891 [==============================] - 0s 146us/step - loss: 0.4428 - acc: 0.8126\n",
            "Epoch 52/100\n",
            "891/891 [==============================] - 0s 146us/step - loss: 0.4655 - acc: 0.8047\n",
            "Epoch 53/100\n",
            "891/891 [==============================] - 0s 155us/step - loss: 0.4433 - acc: 0.8058\n",
            "Epoch 54/100\n",
            "891/891 [==============================] - 0s 172us/step - loss: 0.4390 - acc: 0.8025\n",
            "Epoch 55/100\n",
            "891/891 [==============================] - 0s 152us/step - loss: 0.4331 - acc: 0.8148\n",
            "Epoch 56/100\n",
            "891/891 [==============================] - 0s 144us/step - loss: 0.4352 - acc: 0.8137\n",
            "Epoch 57/100\n",
            "891/891 [==============================] - 0s 150us/step - loss: 0.4341 - acc: 0.8159\n",
            "Epoch 58/100\n",
            "891/891 [==============================] - 0s 147us/step - loss: 0.4287 - acc: 0.8193\n",
            "Epoch 59/100\n",
            "891/891 [==============================] - 0s 142us/step - loss: 0.4323 - acc: 0.8204\n",
            "Epoch 60/100\n",
            "891/891 [==============================] - 0s 151us/step - loss: 0.4285 - acc: 0.8204\n",
            "Epoch 61/100\n",
            "891/891 [==============================] - 0s 147us/step - loss: 0.4276 - acc: 0.8215\n",
            "Epoch 62/100\n",
            "891/891 [==============================] - 0s 162us/step - loss: 0.4207 - acc: 0.8148\n",
            "Epoch 63/100\n",
            "891/891 [==============================] - 0s 166us/step - loss: 0.4210 - acc: 0.8182\n",
            "Epoch 64/100\n",
            "891/891 [==============================] - 0s 153us/step - loss: 0.4170 - acc: 0.8171\n",
            "Epoch 65/100\n",
            "891/891 [==============================] - 0s 145us/step - loss: 0.4167 - acc: 0.8159\n",
            "Epoch 66/100\n",
            "891/891 [==============================] - 0s 148us/step - loss: 0.4182 - acc: 0.8227\n",
            "Epoch 67/100\n",
            "891/891 [==============================] - 0s 145us/step - loss: 0.4181 - acc: 0.8215\n",
            "Epoch 68/100\n",
            "891/891 [==============================] - 0s 144us/step - loss: 0.4147 - acc: 0.8249\n",
            "Epoch 69/100\n",
            "891/891 [==============================] - 0s 154us/step - loss: 0.4113 - acc: 0.8260\n",
            "Epoch 70/100\n",
            "891/891 [==============================] - 0s 152us/step - loss: 0.4142 - acc: 0.8204\n",
            "Epoch 71/100\n",
            "891/891 [==============================] - 0s 145us/step - loss: 0.4133 - acc: 0.8260\n",
            "Epoch 72/100\n",
            "891/891 [==============================] - 0s 153us/step - loss: 0.4148 - acc: 0.8238\n",
            "Epoch 73/100\n",
            "891/891 [==============================] - 0s 162us/step - loss: 0.4089 - acc: 0.8182\n",
            "Epoch 74/100\n",
            "891/891 [==============================] - 0s 149us/step - loss: 0.4070 - acc: 0.8193\n",
            "Epoch 75/100\n",
            "891/891 [==============================] - 0s 156us/step - loss: 0.4131 - acc: 0.8227\n",
            "Epoch 76/100\n",
            "891/891 [==============================] - 0s 153us/step - loss: 0.4125 - acc: 0.8238\n",
            "Epoch 77/100\n",
            "891/891 [==============================] - 0s 150us/step - loss: 0.4046 - acc: 0.8305\n",
            "Epoch 78/100\n",
            "891/891 [==============================] - 0s 170us/step - loss: 0.4034 - acc: 0.8328\n",
            "Epoch 79/100\n",
            "891/891 [==============================] - 0s 159us/step - loss: 0.4121 - acc: 0.8328\n",
            "Epoch 80/100\n",
            "891/891 [==============================] - 0s 150us/step - loss: 0.4154 - acc: 0.8294\n",
            "Epoch 81/100\n",
            "891/891 [==============================] - 0s 160us/step - loss: 0.4112 - acc: 0.8171\n",
            "Epoch 82/100\n",
            "891/891 [==============================] - 0s 150us/step - loss: 0.4080 - acc: 0.8238\n",
            "Epoch 83/100\n",
            "891/891 [==============================] - 0s 154us/step - loss: 0.4171 - acc: 0.8137\n",
            "Epoch 84/100\n",
            "891/891 [==============================] - 0s 152us/step - loss: 0.4080 - acc: 0.8294\n",
            "Epoch 85/100\n",
            "891/891 [==============================] - 0s 151us/step - loss: 0.4019 - acc: 0.8305\n",
            "Epoch 86/100\n",
            "891/891 [==============================] - 0s 160us/step - loss: 0.4242 - acc: 0.8126\n",
            "Epoch 87/100\n",
            "891/891 [==============================] - 0s 162us/step - loss: 0.3980 - acc: 0.8361\n",
            "Epoch 88/100\n",
            "891/891 [==============================] - 0s 157us/step - loss: 0.3985 - acc: 0.8260\n",
            "Epoch 89/100\n",
            "891/891 [==============================] - 0s 152us/step - loss: 0.4082 - acc: 0.8159\n",
            "Epoch 90/100\n",
            "891/891 [==============================] - 0s 147us/step - loss: 0.3999 - acc: 0.8316\n",
            "Epoch 91/100\n",
            "891/891 [==============================] - 0s 161us/step - loss: 0.4003 - acc: 0.8350\n",
            "Epoch 92/100\n",
            "891/891 [==============================] - 0s 150us/step - loss: 0.4128 - acc: 0.8249\n",
            "Epoch 93/100\n",
            "891/891 [==============================] - 0s 171us/step - loss: 0.4057 - acc: 0.8215\n",
            "Epoch 94/100\n",
            "891/891 [==============================] - 0s 150us/step - loss: 0.4001 - acc: 0.8193\n",
            "Epoch 95/100\n",
            "891/891 [==============================] - 0s 148us/step - loss: 0.3964 - acc: 0.8272\n",
            "Epoch 96/100\n",
            "891/891 [==============================] - 0s 159us/step - loss: 0.4094 - acc: 0.8126\n",
            "Epoch 97/100\n",
            "891/891 [==============================] - 0s 157us/step - loss: 0.3990 - acc: 0.8328\n",
            "Epoch 98/100\n",
            "891/891 [==============================] - 0s 161us/step - loss: 0.4012 - acc: 0.8272\n",
            "Epoch 99/100\n",
            "891/891 [==============================] - 0s 158us/step - loss: 0.3967 - acc: 0.8283\n",
            "Epoch 100/100\n",
            "891/891 [==============================] - 0s 155us/step - loss: 0.3913 - acc: 0.8316\n"
          ],
          "name": "stdout"
        },
        {
          "output_type": "execute_result",
          "data": {
            "text/plain": [
              "<keras.callbacks.History at 0x7fe3a9cbd208>"
            ]
          },
          "metadata": {
            "tags": []
          },
          "execution_count": 159
        }
      ]
    },
    {
      "cell_type": "code",
      "metadata": {
        "id": "z3ql-Fg7P0P7",
        "colab_type": "code",
        "colab": {}
      },
      "source": [
        "pred5=ann_model.predict(test_data)"
      ],
      "execution_count": 0,
      "outputs": []
    },
    {
      "cell_type": "code",
      "metadata": {
        "id": "cX8iN2BDeXDC",
        "colab_type": "code",
        "outputId": "3dc5add2-044c-483e-be09-4897fa383c8e",
        "colab": {
          "base_uri": "https://localhost:8080/",
          "height": 1000
        }
      },
      "source": [
        "pred5"
      ],
      "execution_count": 0,
      "outputs": [
        {
          "output_type": "execute_result",
          "data": {
            "text/plain": [
              "array([[0.08788317],\n",
              "       [0.11973006],\n",
              "       [0.08278725],\n",
              "       [0.08496496],\n",
              "       [0.19758564],\n",
              "       [0.08794239],\n",
              "       [0.48434308],\n",
              "       [0.11168739],\n",
              "       [0.6861011 ],\n",
              "       [0.08557537],\n",
              "       [0.08404675],\n",
              "       [0.16522285],\n",
              "       [0.93520665],\n",
              "       [0.08885103],\n",
              "       [0.93342006],\n",
              "       [0.88833725],\n",
              "       [0.11370069],\n",
              "       [0.10552633],\n",
              "       [0.14809436],\n",
              "       [0.21663928],\n",
              "       [0.13504216],\n",
              "       [0.31902754],\n",
              "       [0.9346596 ],\n",
              "       [0.3095075 ],\n",
              "       [0.89607286],\n",
              "       [0.08198798],\n",
              "       [0.93272483],\n",
              "       [0.10441592],\n",
              "       [0.21540159],\n",
              "       [0.09660879],\n",
              "       [0.10296667],\n",
              "       [0.09361094],\n",
              "       [0.29253548],\n",
              "       [0.31927055],\n",
              "       [0.25875145],\n",
              "       [0.10752416],\n",
              "       [0.26617002],\n",
              "       [0.32998788],\n",
              "       [0.08587778],\n",
              "       [0.17083356],\n",
              "       [0.09500033],\n",
              "       [0.2558558 ],\n",
              "       [0.08279851],\n",
              "       [0.84504116],\n",
              "       [0.9324724 ],\n",
              "       [0.08480832],\n",
              "       [0.19760919],\n",
              "       [0.08876479],\n",
              "       [0.9348771 ],\n",
              "       [0.29159603],\n",
              "       [0.20911103],\n",
              "       [0.19359082],\n",
              "       [0.32379514],\n",
              "       [0.93425965],\n",
              "       [0.17167726],\n",
              "       [0.08299145],\n",
              "       [0.08346272],\n",
              "       [0.08464018],\n",
              "       [0.08493471],\n",
              "       [0.9360073 ],\n",
              "       [0.0861429 ],\n",
              "       [0.09788945],\n",
              "       [0.08584848],\n",
              "       [0.5387306 ],\n",
              "       [0.10613394],\n",
              "       [0.9062892 ],\n",
              "       [0.5384286 ],\n",
              "       [0.18655851],\n",
              "       [0.33608776],\n",
              "       [0.77240884],\n",
              "       [0.5353814 ],\n",
              "       [0.08542925],\n",
              "       [0.26634598],\n",
              "       [0.36738026],\n",
              "       [0.9358996 ],\n",
              "       [0.1340051 ],\n",
              "       [0.08413029],\n",
              "       [0.78222674],\n",
              "       [0.09762612],\n",
              "       [0.5353814 ],\n",
              "       [0.58920294],\n",
              "       [0.14590183],\n",
              "       [0.14853275],\n",
              "       [0.08404675],\n",
              "       [0.11125866],\n",
              "       [0.10113937],\n",
              "       [0.525601  ],\n",
              "       [0.31628713],\n",
              "       [0.48345068],\n",
              "       [0.9358953 ],\n",
              "       [0.24807775],\n",
              "       [0.08398223],\n",
              "       [0.8971518 ],\n",
              "       [0.08413029],\n",
              "       [0.41342804],\n",
              "       [0.08472866],\n",
              "       [0.9320626 ],\n",
              "       [0.08423299],\n",
              "       [0.29924196],\n",
              "       [0.0837788 ],\n",
              "       [0.9328978 ],\n",
              "       [0.10698596],\n",
              "       [0.08876479],\n",
              "       [0.08456874],\n",
              "       [0.4658717 ],\n",
              "       [0.10408309],\n",
              "       [0.09144595],\n",
              "       [0.08876479],\n",
              "       [0.08450586],\n",
              "       [0.10460451],\n",
              "       [0.11363164],\n",
              "       [0.4847696 ],\n",
              "       [0.93424296],\n",
              "       [0.5212349 ],\n",
              "       [0.93578035],\n",
              "       [0.10737014],\n",
              "       [0.09689355],\n",
              "       [0.93593514],\n",
              "       [0.23524615],\n",
              "       [0.7844093 ],\n",
              "       [0.89299   ],\n",
              "       [0.0835728 ],\n",
              "       [0.93420434],\n",
              "       [0.08399832],\n",
              "       [0.08876479],\n",
              "       [0.38101202],\n",
              "       [0.08519611],\n",
              "       [0.4110729 ],\n",
              "       [0.09258714],\n",
              "       [0.08504242],\n",
              "       [0.08390483],\n",
              "       [0.14138237],\n",
              "       [0.20772785],\n",
              "       [0.08685017],\n",
              "       [0.08262286],\n",
              "       [0.08491713],\n",
              "       [0.10171181],\n",
              "       [0.09976539],\n",
              "       [0.29470962],\n",
              "       [0.08833206],\n",
              "       [0.0940364 ],\n",
              "       [0.93573767],\n",
              "       [0.12436637],\n",
              "       [0.14969978],\n",
              "       [0.19825429],\n",
              "       [0.08066383],\n",
              "       [0.31304514],\n",
              "       [0.08536738],\n",
              "       [0.2558558 ],\n",
              "       [0.10902455],\n",
              "       [0.9330358 ],\n",
              "       [0.10004783],\n",
              "       [0.09839427],\n",
              "       [0.2416487 ],\n",
              "       [0.08153695],\n",
              "       [0.08472782],\n",
              "       [0.9360066 ],\n",
              "       [0.2868506 ],\n",
              "       [0.19825429],\n",
              "       [0.36618245],\n",
              "       [0.48269665],\n",
              "       [0.32005912],\n",
              "       [0.8335631 ],\n",
              "       [0.08358759],\n",
              "       [0.09294134],\n",
              "       [0.3220465 ],\n",
              "       [0.20174184],\n",
              "       [0.08865717],\n",
              "       [0.9343898 ],\n",
              "       [0.33912718],\n",
              "       [0.08386427],\n",
              "       [0.10139811],\n",
              "       [0.08467233],\n",
              "       [0.09853178],\n",
              "       [0.08826318],\n",
              "       [0.81848186],\n",
              "       [0.93060315],\n",
              "       [0.13639745],\n",
              "       [0.5155083 ],\n",
              "       [0.9213594 ],\n",
              "       [0.09762612],\n",
              "       [0.15850228],\n",
              "       [0.9350107 ],\n",
              "       [0.08876479],\n",
              "       [0.93581563],\n",
              "       [0.10041672],\n",
              "       [0.8247092 ],\n",
              "       [0.08069468],\n",
              "       [0.08920616],\n",
              "       [0.09330601],\n",
              "       [0.10674119],\n",
              "       [0.25205958],\n",
              "       [0.08800027],\n",
              "       [0.08423322],\n",
              "       [0.9338416 ],\n",
              "       [0.08368021],\n",
              "       [0.58674616],\n",
              "       [0.30446178],\n",
              "       [0.09509128],\n",
              "       [0.26844275],\n",
              "       [0.6809401 ],\n",
              "       [0.93605447],\n",
              "       [0.12900701],\n",
              "       [0.36654925],\n",
              "       [0.09425414],\n",
              "       [0.3407122 ],\n",
              "       [0.37705868],\n",
              "       [0.09466627],\n",
              "       [0.9341719 ],\n",
              "       [0.08479023],\n",
              "       [0.10323104],\n",
              "       [0.08361208],\n",
              "       [0.3668895 ],\n",
              "       [0.58683085],\n",
              "       [0.08333626],\n",
              "       [0.2195136 ],\n",
              "       [0.48928744],\n",
              "       [0.25546038],\n",
              "       [0.93392   ],\n",
              "       [0.08413029],\n",
              "       [0.73871493],\n",
              "       [0.08553666],\n",
              "       [0.74459803],\n",
              "       [0.08536065],\n",
              "       [0.92508554],\n",
              "       [0.3343144 ],\n",
              "       [0.08503604],\n",
              "       [0.48345068],\n",
              "       [0.08774915],\n",
              "       [0.09487846],\n",
              "       [0.24943286],\n",
              "       [0.93494177],\n",
              "       [0.08170423],\n",
              "       [0.08892182],\n",
              "       [0.19456273],\n",
              "       [0.08557084],\n",
              "       [0.11920607],\n",
              "       [0.10629839],\n",
              "       [0.42567334],\n",
              "       [0.9353572 ],\n",
              "       [0.9236219 ],\n",
              "       [0.53789926],\n",
              "       [0.35765857],\n",
              "       [0.08404222],\n",
              "       [0.09130907],\n",
              "       [0.17250529],\n",
              "       [0.9103589 ],\n",
              "       [0.11744234],\n",
              "       [0.7844093 ],\n",
              "       [0.5281103 ],\n",
              "       [0.9360148 ],\n",
              "       [0.08562106],\n",
              "       [0.26569426],\n",
              "       [0.08592936],\n",
              "       [0.08465067],\n",
              "       [0.08386427],\n",
              "       [0.08876479],\n",
              "       [0.08444318],\n",
              "       [0.7994138 ],\n",
              "       [0.08534646],\n",
              "       [0.08479559],\n",
              "       [0.08540058],\n",
              "       [0.6424414 ],\n",
              "       [0.93587935],\n",
              "       [0.14714581],\n",
              "       [0.08404675],\n",
              "       [0.08674562],\n",
              "       [0.08386427],\n",
              "       [0.26617002],\n",
              "       [0.08676159],\n",
              "       [0.21268982],\n",
              "       [0.08876479],\n",
              "       [0.93542576],\n",
              "       [0.50880784],\n",
              "       [0.09852263],\n",
              "       [0.680332  ],\n",
              "       [0.09310305],\n",
              "       [0.10531753],\n",
              "       [0.09928989],\n",
              "       [0.09552962],\n",
              "       [0.32079956],\n",
              "       [0.935992  ],\n",
              "       [0.48345068],\n",
              "       [0.5761715 ],\n",
              "       [0.9356452 ],\n",
              "       [0.08305901],\n",
              "       [0.08371133],\n",
              "       [0.38958907],\n",
              "       [0.09853178],\n",
              "       [0.08413029],\n",
              "       [0.3326887 ],\n",
              "       [0.45378193],\n",
              "       [0.09853178],\n",
              "       [0.1164462 ],\n",
              "       [0.08415797],\n",
              "       [0.08464101],\n",
              "       [0.9349895 ],\n",
              "       [0.09660879],\n",
              "       [0.32774016],\n",
              "       [0.08419365],\n",
              "       [0.08376324],\n",
              "       [0.16908187],\n",
              "       [0.11265633],\n",
              "       [0.08545253],\n",
              "       [0.48345068],\n",
              "       [0.6023146 ],\n",
              "       [0.27040082],\n",
              "       [0.93605363],\n",
              "       [0.11359417],\n",
              "       [0.2397385 ],\n",
              "       [0.08655837],\n",
              "       [0.1047799 ],\n",
              "       [0.08387724],\n",
              "       [0.33649603],\n",
              "       [0.9357323 ],\n",
              "       [0.5328584 ],\n",
              "       [0.30595982],\n",
              "       [0.09692985],\n",
              "       [0.0844714 ],\n",
              "       [0.09346014],\n",
              "       [0.08456874],\n",
              "       [0.10269836],\n",
              "       [0.09976539],\n",
              "       [0.26073477],\n",
              "       [0.9358742 ],\n",
              "       [0.08457354],\n",
              "       [0.64736915],\n",
              "       [0.2033495 ],\n",
              "       [0.1074681 ],\n",
              "       [0.10285658],\n",
              "       [0.55814064],\n",
              "       [0.25080368],\n",
              "       [0.09852263],\n",
              "       [0.5501363 ],\n",
              "       [0.08449578],\n",
              "       [0.25158787],\n",
              "       [0.09665316],\n",
              "       [0.0859023 ],\n",
              "       [0.16377634],\n",
              "       [0.09853178],\n",
              "       [0.09742677],\n",
              "       [0.08366501],\n",
              "       [0.0866271 ],\n",
              "       [0.93605006],\n",
              "       [0.08432299],\n",
              "       [0.29511434],\n",
              "       [0.09976539],\n",
              "       [0.3206898 ],\n",
              "       [0.10253778],\n",
              "       [0.90456164],\n",
              "       [0.9314821 ],\n",
              "       [0.09425414],\n",
              "       [0.34965044],\n",
              "       [0.10483363],\n",
              "       [0.9360181 ],\n",
              "       [0.1438081 ],\n",
              "       [0.90572834],\n",
              "       [0.08403784],\n",
              "       [0.08876479],\n",
              "       [0.29640007],\n",
              "       [0.07916796],\n",
              "       [0.83215207],\n",
              "       [0.90456164],\n",
              "       [0.08496496],\n",
              "       [0.93479574],\n",
              "       [0.102081  ],\n",
              "       [0.10115209],\n",
              "       [0.8624319 ],\n",
              "       [0.9309679 ],\n",
              "       [0.16658026],\n",
              "       [0.08776963],\n",
              "       [0.9355947 ],\n",
              "       [0.08371863],\n",
              "       [0.09190908],\n",
              "       [0.9295087 ],\n",
              "       [0.935932  ],\n",
              "       [0.1124559 ],\n",
              "       [0.09838992],\n",
              "       [0.15361336],\n",
              "       [0.082158  ],\n",
              "       [0.08876479],\n",
              "       [0.09003997],\n",
              "       [0.519964  ],\n",
              "       [0.24153146],\n",
              "       [0.0971795 ],\n",
              "       [0.7823519 ],\n",
              "       [0.08486724],\n",
              "       [0.0853571 ],\n",
              "       [0.09133643],\n",
              "       [0.08432707],\n",
              "       [0.41647202],\n",
              "       [0.917568  ],\n",
              "       [0.23633051],\n",
              "       [0.08775157],\n",
              "       [0.08181322],\n",
              "       [0.93505865],\n",
              "       [0.08973894],\n",
              "       [0.9288222 ],\n",
              "       [0.08518234],\n",
              "       [0.08857062],\n",
              "       [0.93582785],\n",
              "       [0.0970059 ],\n",
              "       [0.9326911 ],\n",
              "       [0.28220892],\n",
              "       [0.14976409],\n",
              "       [0.26010215],\n",
              "       [0.08645558],\n",
              "       [0.15263504],\n",
              "       [0.48213208],\n",
              "       [0.9319347 ],\n",
              "       [0.48345068],\n",
              "       [0.9352848 ],\n",
              "       [0.26461685],\n",
              "       [0.08413029],\n",
              "       [0.93560255],\n",
              "       [0.08280295],\n",
              "       [0.08413031],\n",
              "       [0.11198282]], dtype=float32)"
            ]
          },
          "metadata": {
            "tags": []
          },
          "execution_count": 161
        }
      ]
    },
    {
      "cell_type": "code",
      "metadata": {
        "id": "VD5FFwVFP-AX",
        "colab_type": "code",
        "colab": {}
      },
      "source": [
        "rounded5 = [int(np.round(x)) for x in pred5]"
      ],
      "execution_count": 0,
      "outputs": []
    },
    {
      "cell_type": "code",
      "metadata": {
        "id": "R7KorOISZxh9",
        "colab_type": "code",
        "colab": {}
      },
      "source": [
        "pr=pd.DataFrame(rounded5)"
      ],
      "execution_count": 0,
      "outputs": []
    },
    {
      "cell_type": "code",
      "metadata": {
        "id": "HXHmeK7eRLJB",
        "colab_type": "code",
        "outputId": "02b3802a-eaca-4f3c-b836-102af9d83147",
        "colab": {
          "base_uri": "https://localhost:8080/",
          "height": 359
        }
      },
      "source": [
        "pr.tail(10)"
      ],
      "execution_count": 0,
      "outputs": [
        {
          "output_type": "execute_result",
          "data": {
            "text/html": [
              "<div>\n",
              "<style scoped>\n",
              "    .dataframe tbody tr th:only-of-type {\n",
              "        vertical-align: middle;\n",
              "    }\n",
              "\n",
              "    .dataframe tbody tr th {\n",
              "        vertical-align: top;\n",
              "    }\n",
              "\n",
              "    .dataframe thead th {\n",
              "        text-align: right;\n",
              "    }\n",
              "</style>\n",
              "<table border=\"1\" class=\"dataframe\">\n",
              "  <thead>\n",
              "    <tr style=\"text-align: right;\">\n",
              "      <th></th>\n",
              "      <th>0</th>\n",
              "    </tr>\n",
              "  </thead>\n",
              "  <tbody>\n",
              "    <tr>\n",
              "      <th>408</th>\n",
              "      <td>0</td>\n",
              "    </tr>\n",
              "    <tr>\n",
              "      <th>409</th>\n",
              "      <td>1</td>\n",
              "    </tr>\n",
              "    <tr>\n",
              "      <th>410</th>\n",
              "      <td>0</td>\n",
              "    </tr>\n",
              "    <tr>\n",
              "      <th>411</th>\n",
              "      <td>1</td>\n",
              "    </tr>\n",
              "    <tr>\n",
              "      <th>412</th>\n",
              "      <td>0</td>\n",
              "    </tr>\n",
              "    <tr>\n",
              "      <th>413</th>\n",
              "      <td>0</td>\n",
              "    </tr>\n",
              "    <tr>\n",
              "      <th>414</th>\n",
              "      <td>1</td>\n",
              "    </tr>\n",
              "    <tr>\n",
              "      <th>415</th>\n",
              "      <td>0</td>\n",
              "    </tr>\n",
              "    <tr>\n",
              "      <th>416</th>\n",
              "      <td>0</td>\n",
              "    </tr>\n",
              "    <tr>\n",
              "      <th>417</th>\n",
              "      <td>0</td>\n",
              "    </tr>\n",
              "  </tbody>\n",
              "</table>\n",
              "</div>"
            ],
            "text/plain": [
              "     0\n",
              "408  0\n",
              "409  1\n",
              "410  0\n",
              "411  1\n",
              "412  0\n",
              "413  0\n",
              "414  1\n",
              "415  0\n",
              "416  0\n",
              "417  0"
            ]
          },
          "metadata": {
            "tags": []
          },
          "execution_count": 164
        }
      ]
    },
    {
      "cell_type": "code",
      "metadata": {
        "id": "jGxBDp-FTC4C",
        "colab_type": "code",
        "colab": {}
      },
      "source": [
        "#output of xgb\n",
        "sample=pd.read_csv('/content/gender_submission.csv')\n",
        "\n",
        "pr.columns=['Survived']\n",
        "sample.drop(['Survived'],axis=1,inplace=True)\n",
        "res5=pd.concat([sample,pr],axis=1)"
      ],
      "execution_count": 0,
      "outputs": []
    },
    {
      "cell_type": "code",
      "metadata": {
        "id": "5Cz2-foaWvlj",
        "colab_type": "code",
        "outputId": "1098929b-0dcd-4008-f3d4-f74d492fa73c",
        "colab": {
          "base_uri": "https://localhost:8080/",
          "height": 204
        }
      },
      "source": [
        "res5.head()"
      ],
      "execution_count": 0,
      "outputs": [
        {
          "output_type": "execute_result",
          "data": {
            "text/html": [
              "<div>\n",
              "<style scoped>\n",
              "    .dataframe tbody tr th:only-of-type {\n",
              "        vertical-align: middle;\n",
              "    }\n",
              "\n",
              "    .dataframe tbody tr th {\n",
              "        vertical-align: top;\n",
              "    }\n",
              "\n",
              "    .dataframe thead th {\n",
              "        text-align: right;\n",
              "    }\n",
              "</style>\n",
              "<table border=\"1\" class=\"dataframe\">\n",
              "  <thead>\n",
              "    <tr style=\"text-align: right;\">\n",
              "      <th></th>\n",
              "      <th>PassengerId</th>\n",
              "      <th>Survived</th>\n",
              "    </tr>\n",
              "  </thead>\n",
              "  <tbody>\n",
              "    <tr>\n",
              "      <th>0</th>\n",
              "      <td>892</td>\n",
              "      <td>0</td>\n",
              "    </tr>\n",
              "    <tr>\n",
              "      <th>1</th>\n",
              "      <td>893</td>\n",
              "      <td>0</td>\n",
              "    </tr>\n",
              "    <tr>\n",
              "      <th>2</th>\n",
              "      <td>894</td>\n",
              "      <td>0</td>\n",
              "    </tr>\n",
              "    <tr>\n",
              "      <th>3</th>\n",
              "      <td>895</td>\n",
              "      <td>0</td>\n",
              "    </tr>\n",
              "    <tr>\n",
              "      <th>4</th>\n",
              "      <td>896</td>\n",
              "      <td>0</td>\n",
              "    </tr>\n",
              "  </tbody>\n",
              "</table>\n",
              "</div>"
            ],
            "text/plain": [
              "   PassengerId  Survived\n",
              "0          892         0\n",
              "1          893         0\n",
              "2          894         0\n",
              "3          895         0\n",
              "4          896         0"
            ]
          },
          "metadata": {
            "tags": []
          },
          "execution_count": 166
        }
      ]
    },
    {
      "cell_type": "code",
      "metadata": {
        "id": "SfhWCfMPasii",
        "colab_type": "code",
        "colab": {}
      },
      "source": [
        "res2.to_csv('titanic_ann5',index=False)"
      ],
      "execution_count": 0,
      "outputs": []
    },
    {
      "cell_type": "code",
      "metadata": {
        "id": "oEGzGRBma3cH",
        "colab_type": "code",
        "colab": {}
      },
      "source": [
        ""
      ],
      "execution_count": 0,
      "outputs": []
    }
  ]
}